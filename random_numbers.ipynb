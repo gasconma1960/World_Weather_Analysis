{
 "cells": [
  {
   "cell_type": "code",
   "execution_count": 1,
   "id": "51b03b9a",
   "metadata": {},
   "outputs": [],
   "source": [
    "# Import the random module.\n",
    "import random"
   ]
  },
  {
   "cell_type": "code",
   "execution_count": 2,
   "id": "3f671699",
   "metadata": {},
   "outputs": [
    {
     "data": {
      "text/plain": [
       "-33"
      ]
     },
     "execution_count": 2,
     "metadata": {},
     "output_type": "execute_result"
    }
   ],
   "source": [
    "random.randint(-90, 90)"
   ]
  },
  {
   "cell_type": "code",
   "execution_count": 3,
   "id": "8624ea3c",
   "metadata": {},
   "outputs": [
    {
     "data": {
      "text/plain": [
       "65"
      ]
     },
     "execution_count": 3,
     "metadata": {},
     "output_type": "execute_result"
    }
   ],
   "source": [
    "random.randrange(-90,89)"
   ]
  },
  {
   "cell_type": "code",
   "execution_count": 4,
   "id": "698a9705",
   "metadata": {},
   "outputs": [
    {
     "data": {
      "text/plain": [
       "-78.29951637970225"
      ]
     },
     "execution_count": 4,
     "metadata": {},
     "output_type": "execute_result"
    }
   ],
   "source": [
    "random.uniform(-90, 90)"
   ]
  },
  {
   "cell_type": "code",
   "execution_count": 5,
   "id": "b1b6d2d5",
   "metadata": {},
   "outputs": [
    {
     "data": {
      "text/plain": [
       "0.846328691770399"
      ]
     },
     "execution_count": 5,
     "metadata": {},
     "output_type": "execute_result"
    }
   ],
   "source": [
    "random.random()"
   ]
  },
  {
   "cell_type": "code",
   "execution_count": 6,
   "id": "d7b57120",
   "metadata": {},
   "outputs": [],
   "source": [
    "x = 1\n",
    "latitudes = []"
   ]
  },
  {
   "cell_type": "code",
   "execution_count": 7,
   "id": "602202fe",
   "metadata": {},
   "outputs": [],
   "source": [
    "while x < 11:\n",
    "    random_lat = random.randint(-90, 89) + random.random()\n",
    "    latitudes.append(random_lat)\n",
    "    x += 1"
   ]
  },
  {
   "cell_type": "code",
   "execution_count": 8,
   "id": "c2743e53",
   "metadata": {},
   "outputs": [
    {
     "data": {
      "text/plain": [
       "-26"
      ]
     },
     "execution_count": 8,
     "metadata": {},
     "output_type": "execute_result"
    }
   ],
   "source": [
    "random.randrange(-90, 90, step=1)"
   ]
  },
  {
   "cell_type": "code",
   "execution_count": 9,
   "id": "f304120a",
   "metadata": {},
   "outputs": [
    {
     "data": {
      "text/plain": [
       "-60"
      ]
     },
     "execution_count": 9,
     "metadata": {},
     "output_type": "execute_result"
    }
   ],
   "source": [
    "random.randrange(-90, 90, step=3)"
   ]
  },
  {
   "cell_type": "code",
   "execution_count": 10,
   "id": "a45c49ad",
   "metadata": {},
   "outputs": [
    {
     "data": {
      "text/plain": [
       "45.89117914113362"
      ]
     },
     "execution_count": 10,
     "metadata": {},
     "output_type": "execute_result"
    }
   ],
   "source": [
    "random.uniform(-90, 90)"
   ]
  },
  {
   "cell_type": "code",
   "execution_count": 11,
   "id": "bfca01c5",
   "metadata": {},
   "outputs": [],
   "source": [
    "# Import the NumPy module.\n",
    "import numpy as np"
   ]
  },
  {
   "cell_type": "code",
   "execution_count": 12,
   "id": "6d083b0e",
   "metadata": {},
   "outputs": [
    {
     "data": {
      "text/plain": [
       "3.444747720028488"
      ]
     },
     "execution_count": 12,
     "metadata": {},
     "output_type": "execute_result"
    }
   ],
   "source": [
    "np.random.uniform(-90.000, 90.000)"
   ]
  },
  {
   "cell_type": "code",
   "execution_count": 13,
   "id": "7491270c",
   "metadata": {},
   "outputs": [
    {
     "data": {
      "text/plain": [
       "array([  2.40855889, -30.80618259, -66.25345421, -32.33633633,\n",
       "       -22.91301041, -47.04167412, -76.04943793,   9.11694286,\n",
       "        -4.24505008, -70.52236087, -31.22570845, -62.93606439,\n",
       "       -19.45640127, -48.55885454,  75.43991737, -67.16356923,\n",
       "        46.36589843,  30.64587512, -54.1993366 ,  52.94913741,\n",
       "        22.78613647, -52.5198869 ,   7.66933217, -39.88777231,\n",
       "        24.76571761,  37.97706764,  54.85457113,  39.91850653,\n",
       "        66.32123228, -36.53185626,  29.40658486, -54.51293207,\n",
       "       -23.3609149 , -49.29857173,  72.17007586,  73.1966574 ,\n",
       "        32.5877346 , -81.84432177,  56.17977522,  84.09350145,\n",
       "       -58.91304456, -31.70079528, -38.13124742,  73.74604161,\n",
       "        31.86279354, -44.65807518,   4.33699774, -62.00432501,\n",
       "       -87.59345018, -54.35340211])"
      ]
     },
     "execution_count": 13,
     "metadata": {},
     "output_type": "execute_result"
    }
   ],
   "source": [
    "np.random.uniform(-90.000, 90.000, size=50)"
   ]
  },
  {
   "cell_type": "code",
   "execution_count": 18,
   "id": "117b36e6",
   "metadata": {},
   "outputs": [
    {
     "data": {
      "text/plain": [
       "array([-51.88173372, -73.27811893,  41.38937866, -88.4233676 ,\n",
       "       -81.44337563,  24.21275763,  71.76333558, -20.62864516,\n",
       "        57.2959382 ,  27.27455035,  -2.27342091, -81.2829748 ,\n",
       "       -64.63215427, -70.16976104,  40.85758872,  67.14109969,\n",
       "        15.54558398,  -6.92340948, -34.53021439,  47.54155855,\n",
       "         6.5439732 ,  64.38116918, -31.14030562,   7.93365348,\n",
       "        -4.72710142,  21.27461071, -74.90057693,  29.14331061,\n",
       "        -7.898256  ,  14.73085213, -34.34273067, -59.26696632,\n",
       "       -54.10942262,  -0.96558233,  64.44138755,  22.2136079 ,\n",
       "       -20.05428043, -72.9812252 ,  83.07246229,   4.09659856,\n",
       "        77.93894894,   5.94465458,  11.33328356, -29.49836749,\n",
       "       -67.98283781,   8.59968394, -54.29182225,  59.66026361,\n",
       "        48.80227889,  10.16265034])"
      ]
     },
     "execution_count": 18,
     "metadata": {},
     "output_type": "execute_result"
    }
   ],
   "source": [
    "np.random.uniform(low=-90, high=90, size = 50)"
   ]
  },
  {
   "cell_type": "code",
   "execution_count": 14,
   "id": "e12991e4",
   "metadata": {},
   "outputs": [],
   "source": [
    "# Import timeit.\n",
    "import timeit"
   ]
  },
  {
   "cell_type": "code",
   "execution_count": 15,
   "id": "d671d63b",
   "metadata": {},
   "outputs": [
    {
     "name": "stdout",
     "output_type": "stream",
     "text": [
      "23.8 µs ± 8.99 µs per loop (mean ± std. dev. of 7 runs, 100,000 loops each)\n"
     ]
    }
   ],
   "source": [
    "%timeit np.random.uniform(-90.000, 90.000, size=1500)"
   ]
  },
  {
   "cell_type": "code",
   "execution_count": 16,
   "id": "81e8a9be",
   "metadata": {},
   "outputs": [
    {
     "name": "stdout",
     "output_type": "stream",
     "text": [
      "2.94 ms ± 75.4 µs per loop (mean ± std. dev. of 7 runs, 100 loops each)\n"
     ]
    }
   ],
   "source": [
    "def latitudes(size):\n",
    "    latitudes = []\n",
    "    x = 0\n",
    "    while x < (size):\n",
    "        random_lat = random.randint(-90, 90) + random.random()\n",
    "        latitudes.append(random_lat)\n",
    "        x += 1\n",
    "    return latitudes\n",
    "# Call the function with 1500.\n",
    "%timeit latitudes(1500)"
   ]
  },
  {
   "cell_type": "code",
   "execution_count": 19,
   "id": "3a2be18d",
   "metadata": {},
   "outputs": [
    {
     "data": {
      "text/plain": [
       "array([ 86.96586206, -70.99243448,  36.76840028, ..., -36.61846715,\n",
       "        73.85927917, -35.75687434])"
      ]
     },
     "execution_count": 19,
     "metadata": {},
     "output_type": "execute_result"
    }
   ],
   "source": [
    "np.random.uniform(-90.000, 90.000, size=1500)"
   ]
  },
  {
   "cell_type": "code",
   "execution_count": null,
   "id": "145fcf06",
   "metadata": {},
   "outputs": [],
   "source": []
  },
  {
   "cell_type": "code",
   "execution_count": null,
   "id": "7d45a214",
   "metadata": {},
   "outputs": [],
   "source": []
  }
 ],
 "metadata": {
  "kernelspec": {
   "display_name": "Python 3 (ipykernel)",
   "language": "python",
   "name": "python3"
  },
  "language_info": {
   "codemirror_mode": {
    "name": "ipython",
    "version": 3
   },
   "file_extension": ".py",
   "mimetype": "text/x-python",
   "name": "python",
   "nbconvert_exporter": "python",
   "pygments_lexer": "ipython3",
   "version": "3.9.12"
  }
 },
 "nbformat": 4,
 "nbformat_minor": 5
}
