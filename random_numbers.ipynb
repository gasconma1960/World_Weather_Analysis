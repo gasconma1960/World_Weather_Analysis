{
 "cells": [
  {
   "cell_type": "code",
   "execution_count": 1,
   "id": "51b03b9a",
   "metadata": {},
   "outputs": [],
   "source": [
    "# Import the random module.\n",
    "import random"
   ]
  },
  {
   "cell_type": "code",
   "execution_count": 2,
   "id": "3f671699",
   "metadata": {},
   "outputs": [
    {
     "data": {
      "text/plain": [
       "-57"
      ]
     },
     "execution_count": 2,
     "metadata": {},
     "output_type": "execute_result"
    }
   ],
   "source": [
    "random.randint(-90, 90)"
   ]
  },
  {
   "cell_type": "code",
   "execution_count": 3,
   "id": "4b468a41",
   "metadata": {},
   "outputs": [
    {
     "data": {
      "text/plain": [
       "33"
      ]
     },
     "execution_count": 3,
     "metadata": {},
     "output_type": "execute_result"
    }
   ],
   "source": [
    "random.randrange(-90,89)"
   ]
  },
  {
   "cell_type": "code",
   "execution_count": 4,
   "id": "2dc7a3c1",
   "metadata": {},
   "outputs": [
    {
     "data": {
      "text/plain": [
       "-33.28517769888528"
      ]
     },
     "execution_count": 4,
     "metadata": {},
     "output_type": "execute_result"
    }
   ],
   "source": [
    "random.uniform(-90, 90)"
   ]
  },
  {
   "cell_type": "code",
   "execution_count": 5,
   "id": "b1b6d2d5",
   "metadata": {},
   "outputs": [
    {
     "data": {
      "text/plain": [
       "0.7395925193949204"
      ]
     },
     "execution_count": 5,
     "metadata": {},
     "output_type": "execute_result"
    }
   ],
   "source": [
    "random.random()"
   ]
  },
  {
   "cell_type": "code",
   "execution_count": 6,
   "id": "d7b57120",
   "metadata": {},
   "outputs": [],
   "source": [
    "x = 1\n",
    "latitudes = []\n",
    "while x < 11:\n",
    "    random_lat = random.randint(-90, 89) + random.random()\n",
    "    latitudes.append(random_lat)\n",
    "    x += 1"
   ]
  },
  {
   "cell_type": "code",
   "execution_count": 7,
   "id": "c2743e53",
   "metadata": {},
   "outputs": [
    {
     "data": {
      "text/plain": [
       "7"
      ]
     },
     "execution_count": 7,
     "metadata": {},
     "output_type": "execute_result"
    }
   ],
   "source": [
    "random.randrange(-90, 90, step=1)"
   ]
  },
  {
   "cell_type": "code",
   "execution_count": 8,
   "id": "f304120a",
   "metadata": {},
   "outputs": [
    {
     "data": {
      "text/plain": [
       "-48"
      ]
     },
     "execution_count": 8,
     "metadata": {},
     "output_type": "execute_result"
    }
   ],
   "source": [
    "random.randrange(-90, 90, step=3)"
   ]
  },
  {
   "cell_type": "code",
   "execution_count": 9,
   "id": "a45c49ad",
   "metadata": {},
   "outputs": [
    {
     "data": {
      "text/plain": [
       "-57.57217062170929"
      ]
     },
     "execution_count": 9,
     "metadata": {},
     "output_type": "execute_result"
    }
   ],
   "source": [
    "random.uniform(-90, 90)"
   ]
  },
  {
   "cell_type": "code",
   "execution_count": 10,
   "id": "bfca01c5",
   "metadata": {},
   "outputs": [],
   "source": [
    "# Import the NumPy module.\n",
    "import numpy as np"
   ]
  },
  {
   "cell_type": "code",
   "execution_count": 11,
   "id": "6d083b0e",
   "metadata": {},
   "outputs": [
    {
     "data": {
      "text/plain": [
       "-7.925918168707128"
      ]
     },
     "execution_count": 11,
     "metadata": {},
     "output_type": "execute_result"
    }
   ],
   "source": [
    "np.random.uniform(-90.000, 90.000)"
   ]
  },
  {
   "cell_type": "code",
   "execution_count": 12,
   "id": "7491270c",
   "metadata": {},
   "outputs": [
    {
     "data": {
      "text/plain": [
       "array([-63.15703222,  62.86457128, -69.7083286 ,  68.24642059,\n",
       "       -39.28900695, -76.90072483, -33.70098403, -65.16321457,\n",
       "        67.75408669,   8.85750085,  22.42742683, -64.8585636 ,\n",
       "        33.5207354 ,  -8.27256336, -79.57442533,  16.82246109,\n",
       "        89.01519407, -23.54772583, -14.49628575, -55.21119495,\n",
       "         8.9605642 , -25.63998575, -53.20754659, -58.07908266,\n",
       "        51.99191794,  53.7824626 ,  44.11410499, -16.14636442,\n",
       "        67.20786059, -71.02717899, -58.48640661,  -4.73275576,\n",
       "        -2.47914098,  28.14326333,   8.98400318, -50.35125974,\n",
       "        26.94396329,  79.63914624, -30.27726288,  51.06468349,\n",
       "        28.34530017,  78.16728993,  52.79394751,  -5.65236233,\n",
       "       -51.27832674,  52.5315362 ,  14.70579032,  40.33843853,\n",
       "        59.73057378,  -7.85648674])"
      ]
     },
     "execution_count": 12,
     "metadata": {},
     "output_type": "execute_result"
    }
   ],
   "source": [
    "np.random.uniform(-90.000, 90.000, size=50)"
   ]
  },
  {
   "cell_type": "code",
   "execution_count": 13,
   "id": "cb438e7a",
   "metadata": {},
   "outputs": [
    {
     "data": {
      "text/plain": [
       "array([ -8.07480995, -17.68772761,  84.8571544 , -13.65290824,\n",
       "       -86.18791214, -40.44203686,  64.80341996,  -2.41449563,\n",
       "       -55.29772143,  55.44831195, -53.45687062,  86.61192263,\n",
       "        46.06661004, -46.58062497, -72.40272187,   5.91145464,\n",
       "        55.37899997,  78.05040359,  -6.57189755,  51.22667682,\n",
       "        11.33061341, -18.43689741,  81.38866399, -16.3431495 ,\n",
       "       -40.48758659, -82.92213609,  40.79163947, -72.49562181,\n",
       "        12.73012164, -24.45015725,   5.1741575 ,  29.78422587,\n",
       "       -52.73555798,  36.26676345,  -1.1606021 , -70.38736281,\n",
       "       -17.66575229,  72.25909317,  27.67345683,  43.28812075,\n",
       "       -41.26179935, -59.2954202 ,  -6.51486204,  65.52814273,\n",
       "        41.87521554, -31.72109344,  44.26312242, -54.05273382,\n",
       "       -66.6913053 ,  18.05106411])"
      ]
     },
     "execution_count": 13,
     "metadata": {},
     "output_type": "execute_result"
    }
   ],
   "source": [
    "np.random.uniform(low=-90, high=90, size = 50)"
   ]
  },
  {
   "cell_type": "code",
   "execution_count": 14,
   "id": "e12991e4",
   "metadata": {},
   "outputs": [],
   "source": [
    "# Import timeit.\n",
    "import timeit"
   ]
  },
  {
   "cell_type": "code",
   "execution_count": 15,
   "id": "d671d63b",
   "metadata": {},
   "outputs": [
    {
     "name": "stdout",
     "output_type": "stream",
     "text": [
      "15.9 µs ± 544 ns per loop (mean ± std. dev. of 7 runs, 100,000 loops each)\n"
     ]
    }
   ],
   "source": [
    "%timeit np.random.uniform(-90.000, 90.000, size=1500)"
   ]
  },
  {
   "cell_type": "code",
   "execution_count": 16,
   "id": "81e8a9be",
   "metadata": {},
   "outputs": [
    {
     "name": "stdout",
     "output_type": "stream",
     "text": [
      "1.46 ms ± 35.3 µs per loop (mean ± std. dev. of 7 runs, 1,000 loops each)\n"
     ]
    }
   ],
   "source": [
    "def latitudes(size):\n",
    "    latitudes = []\n",
    "    x = 0\n",
    "    while x < (size):\n",
    "        random_lat = random.randint(-90, 90) + random.random()\n",
    "        latitudes.append(random_lat)\n",
    "        x += 1\n",
    "    return latitudes\n",
    "# Call the function with 1500.\n",
    "%timeit latitudes(1500)"
   ]
  },
  {
   "cell_type": "code",
   "execution_count": 17,
   "id": "a76c8121",
   "metadata": {},
   "outputs": [
    {
     "data": {
      "text/plain": [
       "array([88.89589539, 89.44834867, 19.16762179, ..., 23.49168438,\n",
       "       29.15997401, -8.18822727])"
      ]
     },
     "execution_count": 17,
     "metadata": {},
     "output_type": "execute_result"
    }
   ],
   "source": [
    "np.random.uniform(-90.000, 90.000, size=1500)"
   ]
  },
  {
   "cell_type": "code",
   "execution_count": 21,
   "id": "460e194e",
   "metadata": {},
   "outputs": [],
   "source": [
    "# Import linear regression from the SciPy stats module.\n",
    "from scipy.stats import linregress"
   ]
  },
  {
   "cell_type": "code",
   "execution_count": 22,
   "id": "a3977529",
   "metadata": {},
   "outputs": [
    {
     "ename": "NameError",
     "evalue": "name 'lats' is not defined",
     "output_type": "error",
     "traceback": [
      "\u001b[1;31m---------------------------------------------------------------------------\u001b[0m",
      "\u001b[1;31mNameError\u001b[0m                                 Traceback (most recent call last)",
      "Input \u001b[1;32mIn [22]\u001b[0m, in \u001b[0;36m<cell line: 2>\u001b[1;34m()\u001b[0m\n\u001b[0;32m      1\u001b[0m \u001b[38;5;66;03m# Perform linear regression.\u001b[39;00m\n\u001b[1;32m----> 2\u001b[0m (slope, intercept, r_value, p_value, std_err) \u001b[38;5;241m=\u001b[39m linregress(\u001b[43mlats\u001b[49m, temps)\n\u001b[0;32m      3\u001b[0m \u001b[38;5;66;03m# Get the equation of the line.\u001b[39;00m\n\u001b[0;32m      4\u001b[0m line_eq \u001b[38;5;241m=\u001b[39m \u001b[38;5;124m\"\u001b[39m\u001b[38;5;124my = \u001b[39m\u001b[38;5;124m\"\u001b[39m \u001b[38;5;241m+\u001b[39m \u001b[38;5;28mstr\u001b[39m(\u001b[38;5;28mround\u001b[39m(slope,\u001b[38;5;241m2\u001b[39m)) \u001b[38;5;241m+\u001b[39m \u001b[38;5;124m\"\u001b[39m\u001b[38;5;124mx + \u001b[39m\u001b[38;5;124m\"\u001b[39m \u001b[38;5;241m+\u001b[39m \u001b[38;5;28mstr\u001b[39m(\u001b[38;5;28mround\u001b[39m(intercept,\u001b[38;5;241m2\u001b[39m))\n",
      "\u001b[1;31mNameError\u001b[0m: name 'lats' is not defined"
     ]
    }
   ],
   "source": [
    "# Perform linear regression.\n",
    "(slope, intercept, r_value, p_value, std_err) = linregress(lats, temps)\n",
    "# Get the equation of the line.\n",
    "line_eq = \"y = \" + str(round(slope,2)) + \"x + \" + str(round(intercept,2))\n",
    "print(line_eq)\n",
    "print(f\"The p-value is: {p_value:.3f}\")"
   ]
  },
  {
   "cell_type": "code",
   "execution_count": 23,
   "id": "dae80bf0",
   "metadata": {},
   "outputs": [
    {
     "ename": "NameError",
     "evalue": "name 'lats' is not defined",
     "output_type": "error",
     "traceback": [
      "\u001b[1;31m---------------------------------------------------------------------------\u001b[0m",
      "\u001b[1;31mNameError\u001b[0m                                 Traceback (most recent call last)",
      "Input \u001b[1;32mIn [23]\u001b[0m, in \u001b[0;36m<cell line: 2>\u001b[1;34m()\u001b[0m\n\u001b[0;32m      1\u001b[0m \u001b[38;5;66;03m# Calculate the regression line \"y values\" from the slope and intercept.\u001b[39;00m\n\u001b[1;32m----> 2\u001b[0m regress_values \u001b[38;5;241m=\u001b[39m [(lat \u001b[38;5;241m*\u001b[39m slope \u001b[38;5;241m+\u001b[39m intercept) \u001b[38;5;28;01mfor\u001b[39;00m lat \u001b[38;5;129;01min\u001b[39;00m \u001b[43mlats\u001b[49m]\n",
      "\u001b[1;31mNameError\u001b[0m: name 'lats' is not defined"
     ]
    }
   ],
   "source": [
    "# Calculate the regression line \"y values\" from the slope and intercept.\n",
    "regress_values = [(lat * slope + intercept) for lat in lats]"
   ]
  },
  {
   "cell_type": "code",
   "execution_count": null,
   "id": "47533bbe",
   "metadata": {},
   "outputs": [],
   "source": []
  }
 ],
 "metadata": {
  "kernelspec": {
   "display_name": "Python 3 (ipykernel)",
   "language": "python",
   "name": "python3"
  },
  "language_info": {
   "codemirror_mode": {
    "name": "ipython",
    "version": 3
   },
   "file_extension": ".py",
   "mimetype": "text/x-python",
   "name": "python",
   "nbconvert_exporter": "python",
   "pygments_lexer": "ipython3",
   "version": "3.9.12"
  }
 },
 "nbformat": 4,
 "nbformat_minor": 5
}
